{
  "nbformat": 4,
  "nbformat_minor": 0,
  "metadata": {
    "colab": {
      "provenance": []
    },
    "kernelspec": {
      "name": "python3",
      "display_name": "Python 3"
    },
    "language_info": {
      "name": "python"
    }
  },
  "cells": [
    {
      "cell_type": "markdown",
      "source": [
        "# Churn Business Case\n",
        "\n",
        "## Business Context:\n",
        "\n",
        "Gas Natural, a leading gas and electricity utility serving corporate, SME, and residential customers, faces increased customer churn in the SME sector due to energy market liberalization in Europe. Collaborating with our company, they aim to identify the key factors driving SME customer churn.\n",
        "\n",
        "An initial hypothesis suggests that price changes play a pivotal role in customer churn. To address this, a predictive model could prove beneficial in pinpointing customers more likely to churn at their current price levels.\n",
        "\n",
        "For high-risk customers identified through the model, offering a substantial 20% discount is being considered by the head of the SME division. This discount is anticipated to serve as a compelling incentive for customers, particularly those for whom pricing is a primary concern, to stay with Gas Natural.\n",
        "\n",
        "The project team believes there is promise in constructing a churn model to ascertain whether price sensitivity holds the most significant influence on customer turnover. The client has provided data and have tasked you with conducting the analysis.\n",
        "\n",
        "\n",
        "## Dataset:\n",
        "\n",
        "* id = client company identifier\n",
        "* activity_new = category of the company’s activity\n",
        "* channel_sales = code of the sales channel\n",
        "* cons_12m = electricity consumption of the past 12 months\n",
        "* cons_gas_12m = gas consumption of the past 12 months\n",
        "* cons_last_month = electricity consumption of the last month\n",
        "* date_activ = date of activation of the contract\n",
        "* date_end = registered date of the end of the contract\n",
        "* date_modif_prod = date of the last modification of the product\n",
        "* date_renewal = date of the next contract renewal\n",
        "* forecast_cons_12m = forecasted electricity consumption for next 12 months\n",
        "* forecast_cons_year = forecasted electricity consumption for the next calendar year\n",
        "forecast_discount_energy = forecasted value of current discount\n",
        "* forecast_meter_rent_12m = forecasted bill of meter rental for the next 2 * months\n",
        "* forecast_price_energy_off_peak = forecasted energy price for 1st period (off peak)\n",
        "* forecast_price_energy_peak = forecasted energy price for 2nd period (peak)\n",
        "* forecast_price_pow_off_peak = forecasted power price for 1st period (off peak)\n",
        "has_gas = indicated if client is also a gas client\n",
        "* imp_cons = current paid consumption\n",
        "* margin_gross_pow_ele = gross margin on power subscription\n",
        "* margin_net_pow_ele = net margin on power subscription\n",
        "* nb_prod_act = number of active products and services\n",
        "* net_margin = total net margin\n",
        "* num_years_antig = antiquity of the client (in number of years)\n",
        "* origin_up = code of the electricity campaign the customer first subscribed to\n",
        "* pow_max = subscribed power\n",
        "* churn = has the client churned over the next 3 months\n",
        "\n",
        "## Part 1:\n",
        "\n",
        "Conduct exploratory data analysis by examining data types, statistical summaries, specific parameters, and variable distributions. This initial subtask aims to provide you with a comprehensive overview and understanding of the dataset. [30 minutes]\n",
        "\n"
      ],
      "metadata": {
        "id": "p_vTJjHioFPL"
      }
    },
    {
      "cell_type": "code",
      "source": [],
      "metadata": {
        "id": "Txyq1Tal74L1"
      },
      "execution_count": null,
      "outputs": []
    },
    {
      "cell_type": "markdown",
      "source": [
        "## Part 2:\n",
        "\n",
        "The team is tasked with brainstorming and creating features to uncover patterns in the data for the churn model.\n",
        "\n",
        "Feature engineering is crucial for predictive insights. Use the cleaned data to identify potential churn drivers and construct these features. Start by focusing on the difference between off-peak prices in December and the preceding January. If time allows, be creative with additional features.\n",
        "\n",
        "After establishing features, train a model to predict customer churn.  Evaluate the model rigorously, providing justifications for decisions as the intern data scientist. For accuracy assessment, consider metrics such as precision, recall, and F1 score, employing a cross-validation approach to ensure robust performance evaluation.\n",
        "\n",
        "Keep in mind the hypothesis: churn is driven by price sensitivities, and a predictive model can identify potential churners."
      ],
      "metadata": {
        "id": "r5kQaoWS75WL"
      }
    },
    {
      "cell_type": "code",
      "source": [],
      "metadata": {
        "id": "T5vbR_ZI76Wa"
      },
      "execution_count": null,
      "outputs": []
    },
    {
      "cell_type": "markdown",
      "source": [
        "## Part 3:\n",
        "\n",
        "For those going the extra mile, explore the client's proposed 20% discount strategy for high-churn likelihood customers. Test models considering data to support hypotheses and assess the discount's impact on high-propensity churn customers."
      ],
      "metadata": {
        "id": "Yyhk-kkb76oU"
      }
    },
    {
      "cell_type": "code",
      "source": [],
      "metadata": {
        "id": "0nSD5ace8iZu"
      },
      "execution_count": null,
      "outputs": []
    }
  ]
}